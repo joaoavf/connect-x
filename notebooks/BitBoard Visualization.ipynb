{
 "cells": [
  {
   "cell_type": "code",
   "execution_count": 5,
   "metadata": {},
   "outputs": [],
   "source": [
    "import numpy as np"
   ]
  },
  {
   "cell_type": "code",
   "execution_count": 6,
   "metadata": {},
   "outputs": [],
   "source": [
    "def generate_columns_map():\n",
    "    position_map = [2 ** i for i in range(49)]\n",
    "\n",
    "    columns_map = []\n",
    "    for column_number in range(7):\n",
    "        column_values = position_map[7 * column_number: 7 * column_number + 6]\n",
    "        columns_map.append(column_values)\n",
    "\n",
    "    return columns_map"
   ]
  },
  {
   "cell_type": "code",
   "execution_count": 40,
   "metadata": {},
   "outputs": [],
   "source": [
    "def bitboard_from_integer(integer):\n",
    "    bit_board = []\n",
    "    columns_map = generate_columns_map()\n",
    "    for column in columns_map:\n",
    "        column_cells = []\n",
    "        for element in column:\n",
    "            cell_status = (element & integer) > 0\n",
    "            column_cells.append(cell_status)\n",
    "        bit_board.append(column_cells)\n",
    "    return np.flipud(np.array(bit_board).transpose()).astype(int)"
   ]
  },
  {
   "cell_type": "code",
   "execution_count": 41,
   "metadata": {},
   "outputs": [],
   "source": [
    "def game_layout_from_mask_and_player(bit_board, mask):\n",
    "    return bitboard_from_integer(bit_board) +  bitboard_from_integer(mask)"
   ]
  },
  {
   "cell_type": "code",
   "execution_count": 44,
   "metadata": {},
   "outputs": [],
   "source": [
    "bit_board =  4443259030528\n",
    "mask = 4518169337729"
   ]
  },
  {
   "cell_type": "code",
   "execution_count": 45,
   "metadata": {},
   "outputs": [
    {
     "data": {
      "text/plain": [
       "array([[0, 1, 0, 2, 2, 0, 0],\n",
       "       [0, 2, 0, 2, 1, 0, 0],\n",
       "       [0, 2, 0, 1, 2, 0, 0],\n",
       "       [0, 1, 0, 2, 1, 0, 0],\n",
       "       [0, 1, 1, 2, 1, 1, 0],\n",
       "       [1, 1, 2, 2, 1, 2, 2]])"
      ]
     },
     "execution_count": 45,
     "metadata": {},
     "output_type": "execute_result"
    }
   ],
   "source": [
    "game_layout_from_mask_and_player(bit_board, mask)"
   ]
  },
  {
   "cell_type": "code",
   "execution_count": 56,
   "metadata": {},
   "outputs": [
    {
     "data": {
      "text/plain": [
       "array([0, 1, 2, 3, 4, 5, 6], dtype=int32)"
      ]
     },
     "execution_count": 56,
     "metadata": {},
     "output_type": "execute_result"
    }
   ],
   "source": [
    "np.argsort([len(column) for column in generate_columns_map()])"
   ]
  },
  {
   "cell_type": "code",
   "execution_count": 46,
   "metadata": {},
   "outputs": [],
   "source": [
    "bit_board = 74910307201\n",
    "mask = 120122826625"
   ]
  },
  {
   "cell_type": "code",
   "execution_count": 47,
   "metadata": {},
   "outputs": [
    {
     "data": {
      "text/plain": [
       "array([[0, 2, 0, 1, 1, 0, 0],\n",
       "       [0, 1, 0, 1, 2, 0, 0],\n",
       "       [0, 1, 0, 2, 1, 0, 0],\n",
       "       [0, 2, 0, 1, 2, 0, 0],\n",
       "       [0, 2, 2, 1, 2, 2, 0],\n",
       "       [2, 2, 1, 1, 2, 1, 0]])"
      ]
     },
     "execution_count": 47,
     "metadata": {},
     "output_type": "execute_result"
    }
   ],
   "source": [
    "game_layout_from_mask_and_player(bit_board, mask)"
   ]
  },
  {
   "cell_type": "code",
   "execution_count": 83,
   "metadata": {},
   "outputs": [
    {
     "name": "stdout",
     "output_type": "stream",
     "text": [
      "3 6\n",
      "2 5\n",
      "2 4\n",
      "1 3\n",
      "1 2\n",
      "0 1\n",
      "0 0\n"
     ]
    }
   ],
   "source": [
    "plays = [0, 1, 2, 3, 4, 5, 6]\n",
    "for i in reversed(range(7)):\n",
    "    pop_index = i//2\n",
    "    pop_element = plays.pop(i)\n",
    "    print(pop_index, pop_element)\n",
    "    \n",
    "\n",
    "#plays = [plays.pop(i//2) for i in reversed(range(1, l+1))"
   ]
  },
  {
   "cell_type": "code",
   "execution_count": 90,
   "metadata": {},
   "outputs": [
    {
     "name": "stdout",
     "output_type": "stream",
     "text": [
      "[0, 1, 2, 3, 4, 5, 6]\n",
      "[0, 1, 2, 3, 4, 5, 6] -> [3, 2, 4, 1, 5, 0, 6]\n",
      "[0, 1, 2, 3, 4, 5]\n",
      "[0, 1, 2, 3, 4, 5] -> [2, 3, 1, 4, 0, 5]\n",
      "[0, 1, 2, 3, 4]\n",
      "[0, 1, 2, 3, 4] -> [2, 1, 3, 0, 4]\n",
      "[0, 1, 2, 3]\n",
      "[0, 1, 2, 3] -> [1, 2, 0, 3]\n",
      "[0, 1, 2]\n",
      "[0, 1, 2] -> [1, 0, 2]\n",
      "[0, 1]\n",
      "[0, 1] -> [0, 1]\n",
      "[0]\n",
      "[0] -> [0]\n"
     ]
    }
   ],
   "source": [
    "for r in reversed(range(1, 8)):\n",
    "    i_plays = list(range(r))\n",
    "    plays = i_plays[:]\n",
    "    print(plays)\n",
    "    r_plays = [plays.pop(i//2) for i in reversed(range(len(plays)))]\n",
    "    print(i_plays, '->', r_plays)"
   ]
  },
  {
   "cell_type": "code",
   "execution_count": 76,
   "metadata": {},
   "outputs": [],
   "source": []
  },
  {
   "cell_type": "code",
   "execution_count": 77,
   "metadata": {},
   "outputs": [],
   "source": [
    "plays = [plays.pop(i//2) for i in reversed(range(l))]"
   ]
  },
  {
   "cell_type": "code",
   "execution_count": 78,
   "metadata": {},
   "outputs": [
    {
     "data": {
      "text/plain": [
       "[2, 3, 1, 4, 0, 5]"
      ]
     },
     "execution_count": 78,
     "metadata": {},
     "output_type": "execute_result"
    }
   ],
   "source": [
    "plays"
   ]
  },
  {
   "cell_type": "code",
   "execution_count": null,
   "metadata": {},
   "outputs": [],
   "source": []
  }
 ],
 "metadata": {
  "kernelspec": {
   "display_name": "Python 3",
   "language": "python",
   "name": "python3"
  },
  "language_info": {
   "codemirror_mode": {
    "name": "ipython",
    "version": 3
   },
   "file_extension": ".py",
   "mimetype": "text/x-python",
   "name": "python",
   "nbconvert_exporter": "python",
   "pygments_lexer": "ipython3",
   "version": "3.8.3"
  }
 },
 "nbformat": 4,
 "nbformat_minor": 4
}
